{
  "nbformat": 4,
  "nbformat_minor": 0,
  "metadata": {
    "colab": {
      "name": "CLBP.ipynb",
      "provenance": [],
      "collapsed_sections": []
    },
    "kernelspec": {
      "display_name": "Python 3",
      "name": "python3"
    },
    "language_info": {
      "name": "python"
    }
  },
  "cells": [
    {
      "cell_type": "code",
      "metadata": {
        "id": "4AJ7hhQcyzPp"
      },
      "source": [
        "import cv2\n",
        "import sklearn\n",
        "import numpy as np\n",
        "import matplotlib as mpl\n",
        "import matplotlib.pyplot as plt\n",
        "import math\n",
        "import glob\n",
        "import tensorflow as tf\n",
        "from sklearn.neighbors import KNeighborsClassifier\n",
        "from sklearn.model_selection import train_test_split\n",
        "from matplotlib.image import NonUniformImage\n",
        "from google.colab.patches import cv2_imshow\n"
      ],
      "execution_count": 2,
      "outputs": []
    },
    {
      "cell_type": "code",
      "metadata": {
        "id": "drqGarihy43g"
      },
      "source": [
        "def get_pixel(img, center, x, y):\n",
        "    new_value = 0\n",
        "    try:\n",
        "        if img[x][y] >= center:\n",
        "            new_value = 1\n",
        "    except:\n",
        "        pass\n",
        "    return new_value\n"
      ],
      "execution_count": 3,
      "outputs": []
    },
    {
      "cell_type": "code",
      "metadata": {
        "colab": {
          "base_uri": "https://localhost:8080/"
        },
        "id": "GJ1y2-nTT2uu",
        "outputId": "876b8397-4be9-4c49-a1b1-3c0d0a49e918"
      },
      "source": [
        "from google.colab import drive\n",
        "drive.mount('/content/drive')"
      ],
      "execution_count": 4,
      "outputs": [
        {
          "output_type": "stream",
          "text": [
            "Drive already mounted at /content/drive; to attempt to forcibly remount, call drive.mount(\"/content/drive\", force_remount=True).\n"
          ],
          "name": "stdout"
        }
      ]
    },
    {
      "cell_type": "code",
      "metadata": {
        "id": "yWca8HLfD-ex"
      },
      "source": [
        "def get_pixel_else_0(l, idx, idy):\n",
        "    if idx < int(len(l)) - 1 and idy < len(l[0]):\n",
        "        return l[idx,idy]\n",
        "    else:\n",
        "        return 0"
      ],
      "execution_count": 5,
      "outputs": []
    },
    {
      "cell_type": "code",
      "metadata": {
        "id": "yKcdxthGWDd9"
      },
      "source": [
        "def get_pixel_sign(img, center, x, y):\n",
        "    new_value = 0\n",
        "    try:\n",
        "        if img[x][y] >= center:\n",
        "            new_value = 1\n",
        "    except:\n",
        "        pass\n",
        "    return new_value\n"
      ],
      "execution_count": 6,
      "outputs": []
    },
    {
      "cell_type": "code",
      "metadata": {
        "id": "S7fBIum0WKHM"
      },
      "source": [
        "def get_pixel_magn_diff(img, center, x, y):\n",
        "    new_value = 0\n",
        "    try:\n",
        "        new_value = abs(int(img[x][y]) - int(center))\n",
        "    except:\n",
        "        pass\n",
        "    return new_value\n"
      ],
      "execution_count": 7,
      "outputs": []
    },
    {
      "cell_type": "code",
      "metadata": {
        "id": "4fepRS2TzyFt"
      },
      "source": [
        "\n",
        "def lbp_calculated_pixel(img, x, y):\n",
        "    '''\n",
        "     64 | 128 |   1\n",
        "    ----------------\n",
        "     32 |   0 |   2\n",
        "    ----------------\n",
        "     16 |   8 |   4    \n",
        "    '''    \n",
        "    center = img[x][y]\n",
        "    val_ar = []\n",
        "    val_ar.append(get_pixel_sign(img, center, x-1, y+1))     # top_right\n",
        "    val_ar.append(get_pixel_sign(img, center, x, y+1))       # right\n",
        "    val_ar.append(get_pixel_sign(img, center, x+1, y+1))     # bottom_right\n",
        "    val_ar.append(get_pixel_sign(img, center, x+1, y))       # bottom\n",
        "    val_ar.append(get_pixel_sign(img, center, x+1, y-1))     # bottom_left\n",
        "    val_ar.append(get_pixel_sign(img, center, x, y-1))       # left\n",
        "    val_ar.append(get_pixel_sign(img, center, x-1, y-1))     # top_left\n",
        "    val_ar.append(get_pixel_sign(img, center, x-1, y))       # top\n",
        "    \n",
        "    power_val = [1, 2, 4, 8, 16, 32, 64, 128]\n",
        "    val = 0\n",
        "    for i in range(len(val_ar)):\n",
        "        val += val_ar[i] * power_val[i]\n",
        "    return val    \n"
      ],
      "execution_count": 8,
      "outputs": []
    },
    {
      "cell_type": "code",
      "metadata": {
        "id": "DXvDJw3d5Op0"
      },
      "source": [
        "\n",
        "def clbp_sign_vec(img, x, y):\n",
        "    '''\n",
        "     64 | 128 |   1\n",
        "    ----------------\n",
        "     32 |   0 |   2\n",
        "    ----------------\n",
        "     16 |   8 |   4    \n",
        "    '''    \n",
        "    center = img[x][y]\n",
        "    val_ar = []\n",
        "    val_ar.append(get_pixel_sign(img, center, x-1, y+1))     # top_right\n",
        "    val_ar.append(get_pixel_sign(img, center, x, y+1))       # right\n",
        "    val_ar.append(get_pixel_sign(img, center, x+1, y+1))     # bottom_right\n",
        "    val_ar.append(get_pixel_sign(img, center, x+1, y))       # bottom\n",
        "    val_ar.append(get_pixel_sign(img, center, x+1, y-1))     # bottom_left\n",
        "    val_ar.append(get_pixel_sign(img, center, x, y-1))       # left\n",
        "    val_ar.append(get_pixel_sign(img, center, x-1, y-1))     # top_left\n",
        "    val_ar.append(get_pixel_sign(img, center, x-1, y))       # top\n",
        "\n",
        "    power_val = [1, 2, 4, 8, 16, 32, 64, 128]\n",
        "    val = 0\n",
        "    # print(val_ar)\n",
        "    for i in range(len(val_ar)):\n",
        "        val += val_ar[i] * power_val[i]\n",
        "    return val     \n"
      ],
      "execution_count": 9,
      "outputs": []
    },
    {
      "cell_type": "code",
      "metadata": {
        "id": "xu6slLAA6rko"
      },
      "source": [
        "\n",
        "def clbp_Mag_vec(img, x, y):  \n",
        "    center = img[x][y]\n",
        "    # print(\"center = \",center)\n",
        "\n",
        "    val_ar = []\n",
        "    # print(img[x-1][y+1],\"\\n\")\n",
        "    val_ar.append(get_pixel_magn_diff(img, center, x-1, y+1))     # top_right\n",
        "    # print(\"center = \",center)\n",
        "    # print(img[x-1][y+1],\"\\n\")\n",
        "    \n",
        "    val_ar.append(get_pixel_magn_diff(img, center, x, y+1))       # right\n",
        "    # print(\"center = \",center)\n",
        "    # print(img[x][y+1],\"\\n\")\n",
        "    \n",
        "    val_ar.append(get_pixel_magn_diff(img, center, x+1, y+1))     # bottom_right\n",
        "    # print(\"center = \",center)\n",
        "    # print(img[x+1][y+1],\"\\n\")\n",
        "    \n",
        "    val_ar.append(get_pixel_magn_diff(img, center, x+1, y))       # bottom\n",
        "    # print(\"center = \",center)\n",
        "    # print(img[x+1][y],\"\\n\")\n",
        "    \n",
        "    val_ar.append(get_pixel_magn_diff(img, center, x+1, y-1))     # bottom_left\n",
        "    # print(\"center = \",center)\n",
        "    # print(img[x+1][y-1],\"\\n\")\n",
        "    \n",
        "    val_ar.append(get_pixel_magn_diff(img, center, x, y-1))       # left\n",
        "    # print(\"center = \",center)\n",
        "    # print(img[x][y-1],\"\\n\")\n",
        "    \n",
        "    val_ar.append(get_pixel_magn_diff(img, center, x-1, y-1))     # top_left\n",
        "    # print(\"center = \",center)\n",
        "    # print(img[x-1][y-1],\"\\n\")\n",
        "    \n",
        "    val_ar.append(get_pixel_magn_diff(img, center, x-1, y))       # top\n",
        "    # print(\"center = \",center)\n",
        "    # print(img[x-1][y],\"\\n\")\n",
        "\n",
        "    return val_ar    \n"
      ],
      "execution_count": 10,
      "outputs": []
    },
    {
      "cell_type": "code",
      "metadata": {
        "id": "qpCAL6RElG8V"
      },
      "source": [
        "def t_paper(x,c):\n",
        "    if(x>=c):\n",
        "        return 1\n",
        "    return 0"
      ],
      "execution_count": 11,
      "outputs": []
    },
    {
      "cell_type": "code",
      "metadata": {
        "id": "lN-lJgfyhGan"
      },
      "source": [
        "def clbp_S_Operator(img,x,y):\n",
        "    return clbp_sign_vec(img,x,y)"
      ],
      "execution_count": 12,
      "outputs": []
    },
    {
      "cell_type": "code",
      "metadata": {
        "id": "T-HbRj_6jqFo"
      },
      "source": [
        "def clbp_M_Operator(mp,P):\n",
        "    c_threshold = np.mean(mp)\n",
        "    tp = np.where(mp >= c_threshold, 1, 0)\n",
        "    pp2 = (np.array(list(range(0,P))))\n",
        "    return np.dot(tp,pp2)"
      ],
      "execution_count": 13,
      "outputs": []
    },
    {
      "cell_type": "code",
      "metadata": {
        "id": "mNYcYlsUt9G6"
      },
      "source": [
        "def calcLocalDifferences(img,P,R):\n",
        "    ld = np.zeros((img.shape[0],img.shape[1],P),dtype=np.float)\n",
        "\n",
        "    for y in range(0, len(img)):\n",
        "        for x in range(0, len(img[0])):\n",
        "            center = img[y,x]\n",
        "            #pixels = getNeighboringPixels(img,R,P,x,y)              \n",
        "            pixels = getNeighboringPixelsPaperVersion(img,R,P,x,y)              \n",
        "            ld[y,x,0:P] = pixels-center\n",
        "\n",
        "    return ld"
      ],
      "execution_count": 14,
      "outputs": []
    },
    {
      "cell_type": "code",
      "metadata": {
        "id": "3OerhXKwrOxL"
      },
      "source": [
        "def clbp_C_Operator(img):\n",
        "    c = np.mean(img)\n",
        "    return np.where(img >= c, 1, 0)\n"
      ],
      "execution_count": 15,
      "outputs": []
    },
    {
      "cell_type": "code",
      "metadata": {
        "id": "dJM-_7lgvc4H"
      },
      "source": [
        "def LDSMT(ld):\n",
        "    sp = np.where(ld >= 0,1,-1)\n",
        "    mp = np.absolute(ld)\n",
        "    return sp, mp"
      ],
      "execution_count": 16,
      "outputs": []
    },
    {
      "cell_type": "code",
      "metadata": {
        "id": "vIrrAGqrvu_k"
      },
      "source": [
        "def CLBP_S_riu2(sp,P):\n",
        "    sp = np.where(sp >= 0, 1, 0)\n",
        "    #sp_total = np.sum(sp,2)\n",
        "    #u_value = calcTransitions(sp,P)\n",
        "    #return np.where(u_value <= 2, sp_total, P+1)\n",
        "    pp2 = 2**(np.array(list(range(0,P))))\n",
        "    indexes = np.dot(sp,pp2)    \n",
        "    return indexes"
      ],
      "execution_count": 17,
      "outputs": []
    },
    {
      "cell_type": "code",
      "metadata": {
        "id": "RAbLNafVv21u"
      },
      "source": [
        "def CLBP_M_riu2(mp,P):\n",
        "    c = np.mean(mp)\n",
        "    tp = np.where(mp >= c, 1, 0)\n",
        "    # pp2 = np.array([1]*P)\n",
        "    # tp_total = np.dot(tp,pp2.T)\n",
        "    # u_value = calcTransitions(tp,P)\n",
        "    # return np.where(u_value <= 2, tp_total, P+1)\n",
        "    pp2 = 2**(np.array(list(range(0,P))))\n",
        "    indexes = np.dot(tp,pp2)    \n",
        "    return indexes"
      ],
      "execution_count": 18,
      "outputs": []
    },
    {
      "cell_type": "code",
      "metadata": {
        "id": "W_9CFhNnwTN0"
      },
      "source": [
        "def genMappingTable(P):\n",
        "    mapTable = np.zeros(2**P)\n",
        "    numElms = P+2\n",
        "    for i in range(0,2**P):\n",
        "        msb = 128 & i\n",
        "        lsb = 1 & i\n",
        "        count = format(i, '#010b').count('01') + format(i, '#010b').count('10') + ((msb >> (P-1)) ^ lsb)\n",
        "\n",
        "        if count <= 2:\n",
        "            mapTable[i] = bin(i).count('1')\n",
        "        else:\n",
        "            mapTable[i] = P+1\n",
        "\n",
        "    return mapTable"
      ],
      "execution_count": 19,
      "outputs": []
    },
    {
      "cell_type": "code",
      "metadata": {
        "id": "hWY9n6ViKBAt"
      },
      "source": [
        "def getNeighboringPixelsPaperVersion(img,R,P,x,y):\n",
        "    pixels = []\n",
        "\n",
        "    indexes = np.array(list(range(0,P)),dtype=np.float)\n",
        "    dy = -R * np.sin(2 * np.pi * indexes / P)\n",
        "    dx = R * np.cos(2 * np.pi * indexes / P)\n",
        "\n",
        "    dy = np.where(abs(dy) < 5.0e-10, 0, dy)\n",
        "    dx = np.where(abs(dx) < 5.0e-10, 0, dx)\n",
        "\n",
        "    for point in range(0, P):\n",
        "        r = y + dy[point]\n",
        "        c = x + dx[point]\n",
        "\n",
        "        fr = math.floor(r)\n",
        "        fc = math.floor(c)\n",
        "\n",
        "        cr = math.ceil(r)\n",
        "        cc = math.ceil(c)\n",
        "        \n",
        "        rr = np.round(r)\n",
        "        rc = np.round(c)\n",
        "\n",
        "        if abs(c-rc) < 10e-7 and abs(r-rr) < 10e-7:\n",
        "            pixels.append(get_pixel_else_0(img, int(r), int(c)))\n",
        "        else:\n",
        "            tr = r - fr\n",
        "            tc = c - fc\n",
        "\n",
        "            w1 = (1 - tc) * (1 - tr)\n",
        "            w2 =      tc  * (1 - tr)\n",
        "            w3 = (1 - tc) *      tr \n",
        "            w4 =      tc  *      tr \n",
        "\n",
        "            value = w1*get_pixel_else_0(img, fr, fc) + w2*get_pixel_else_0(img, fr, cc) + \\\n",
        "                    w3*get_pixel_else_0(img, cr, fc) + w4*get_pixel_else_0(img, cr, cc)\n",
        "\n",
        "            pixels.append(value)\n",
        "\n",
        "    return pixels\n"
      ],
      "execution_count": 20,
      "outputs": []
    },
    {
      "cell_type": "code",
      "metadata": {
        "id": "KiZh8Qqeum0g"
      },
      "source": [
        "def chiSquared(p,q):\n",
        "    return np.sum((p-q)**2/(p+q+1e-6))"
      ],
      "execution_count": 21,
      "outputs": []
    },
    {
      "cell_type": "markdown",
      "metadata": {
        "id": "B3T9jGL870O3"
      },
      "source": [
        "Import dataset"
      ]
    },
    {
      "cell_type": "code",
      "metadata": {
        "id": "EAMe7i1h5PjM"
      },
      "source": [
        "aluminium_foil = glob.glob('/content/drive/MyDrive/PS I G3/Dataset/KTH-TIPS 2-a/KTH-TIPS2-a/aluminium_foil/sample_a/*.*')\n",
        "brown_bread = glob.glob('/content/drive/MyDrive/PS I G3/Dataset/KTH-TIPS 2-a/KTH-TIPS2-a/brown_bread/sample_a/*.*')\n",
        "corduroy = glob.glob('/content/drive/MyDrive/PS I G3/Dataset/KTH-TIPS 2-a/KTH-TIPS2-a/corduroy/sample_a/*.*')\n",
        "cork = glob.glob('/content/drive/MyDrive/PS I G3/Dataset/KTH-TIPS 2-a/KTH-TIPS2-a/cork/sample_a/*.*')\n",
        "cotton = glob.glob('/content/drive/MyDrive/PS I G3/Dataset/KTH-TIPS 2-a/KTH-TIPS2-a/cotton/sample_a/*.*')\n",
        "cracker = glob.glob('/content/drive/MyDrive/PS I G3/Dataset/KTH-TIPS 2-a/KTH-TIPS2-a/cracker/sample_a/*.*')\n",
        "lettuce_leaf = glob.glob('/content/drive/MyDrive/PS I G3/Dataset/KTH-TIPS 2-a/KTH-TIPS2-a/lettuce_leaf/sample_a/*.*')\n",
        "linen = glob.glob('/content/drive/MyDrive/PS I G3/Dataset/KTH-TIPS 2-a/KTH-TIPS2-a/linen/sample_a/*.*')\n",
        "white_bread = glob.glob('/content/drive/MyDrive/PS I G3/Dataset/KTH-TIPS 2-a/KTH-TIPS2-a/white_bread/sample_a/*.*')\n",
        "wood = glob.glob('/content/drive/MyDrive/PS I G3/Dataset/KTH-TIPS 2-a/KTH-TIPS2-a/wood/sample_a/*.*')\n",
        "wool = glob.glob('/content/drive/MyDrive/PS I G3/Dataset/KTH-TIPS 2-a/KTH-TIPS2-a/wool/sample_a/*.*')\n",
        "\n",
        "\n",
        "# In[5]:\n",
        "\n",
        "\n",
        "data = []\n",
        "labels = []\n",
        "j= 0\n",
        "for i in aluminium_foil:\n",
        "    if j>50:\n",
        "        break\n",
        "    image=tf.keras.preprocessing.image.load_img(i, color_mode=\"rgb\", target_size= (200,200))\n",
        "    image=np.array(image)\n",
        "    data.append(image)\n",
        "    labels.append(0)\n",
        "    j +=1\n",
        "for i in brown_bread:\n",
        "    if j>100:\n",
        "        break\n",
        "    image=tf.keras.preprocessing.image.load_img(i, color_mode=\"rgb\", target_size= (200,200))\n",
        "    image=np.array(image)\n",
        "    data.append(image)\n",
        "    labels.append(1)\n",
        "    j +=1\n",
        "for i in corduroy:\n",
        "    if j>150:\n",
        "        break\n",
        "    image=tf.keras.preprocessing.image.load_img(i, color_mode=\"rgb\", target_size= (200,200))\n",
        "    image=np.array(image)\n",
        "    data.append(image)\n",
        "    labels.append(2)\n",
        "    j +=1\n",
        "for i in cork:\n",
        "    if j>200:\n",
        "        break\n",
        "    image=tf.keras.preprocessing.image.load_img(i, color_mode=\"rgb\", target_size= (200,200))\n",
        "    image=np.array(image)\n",
        "    data.append(image)\n",
        "    labels.append(3)\n",
        "    j+=1\n",
        "for i in cotton:\n",
        "    if j>250 :\n",
        "        break\n",
        "    image=tf.keras.preprocessing.image.load_img(i, color_mode=\"rgb\", target_size= (200,200))\n",
        "    image=np.array(image)\n",
        "    data.append(image)\n",
        "    labels.append(4)\n",
        "    j+=1\n",
        "for i in cracker:\n",
        "    if j> 300:\n",
        "        break\n",
        "    image=tf.keras.preprocessing.image.load_img(i, color_mode=\"rgb\", target_size= (200,200))\n",
        "    image=np.array(image)\n",
        "    data.append(image)\n",
        "    labels.append(5)\n",
        "    j+=1\n",
        "for i in lettuce_leaf:\n",
        "    if j> 350:\n",
        "        break\n",
        "    image=tf.keras.preprocessing.image.load_img(i, color_mode=\"rgb\", target_size= (200,200))\n",
        "    image=np.array(image)\n",
        "    data.append(image)\n",
        "    labels.append(6)\n",
        "    j+=1\n",
        "for i in linen:\n",
        "    if j> 400:\n",
        "        break\n",
        "    image=tf.keras.preprocessing.image.load_img(i, color_mode=\"rgb\", target_size= (200,200))\n",
        "    image=np.array(image)\n",
        "    data.append(image)\n",
        "    labels.append(7)\n",
        "    j+=1\n",
        "for i in white_bread:\n",
        "    if j> 450:\n",
        "        break\n",
        "    image=tf.keras.preprocessing.image.load_img(i, color_mode=\"rgb\", target_size= (200,200))\n",
        "    image=np.array(image)\n",
        "    data.append(image)\n",
        "    labels.append(8)\n",
        "    j+=1\n",
        "for i in wood:\n",
        "    if j> 500:\n",
        "        break\n",
        "    image=tf.keras.preprocessing.image.load_img(i, color_mode=\"rgb\", target_size= (200,200))\n",
        "    image=np.array(image)\n",
        "    data.append(image)\n",
        "    labels.append(9)\n",
        "    j+=1\n",
        "for i in wool:\n",
        "    if j> 550:\n",
        "        break\n",
        "    image=tf.keras.preprocessing.image.load_img(i, color_mode=\"rgb\", target_size= (200,200))\n",
        "    image=np.array(image)\n",
        "    data.append(image)\n",
        "    labels.append(10)\n",
        "    j+=1\n",
        "\n",
        "data = np.array(data)\n",
        "labels = np.array(labels)"
      ],
      "execution_count": 88,
      "outputs": []
    },
    {
      "cell_type": "code",
      "metadata": {
        "id": "5-AJdCNhF5pB"
      },
      "source": [
        "X_train, X_test, y_train, y_test = train_test_split(data, labels, test_size=0.2, random_state=42)"
      ],
      "execution_count": 89,
      "outputs": []
    },
    {
      "cell_type": "markdown",
      "metadata": {
        "id": "gOuXrhtnN1jz"
      },
      "source": [
        "CLBP Github"
      ]
    },
    {
      "cell_type": "markdown",
      "metadata": {
        "id": "C6XvA3BSWNcl"
      },
      "source": [
        "Train dataset histogram"
      ]
    },
    {
      "cell_type": "code",
      "metadata": {
        "colab": {
          "base_uri": "https://localhost:8080/"
        },
        "id": "sxG_Gj4LrFl6",
        "outputId": "dfcc1f15-ffb6-4fd0-95b5-7532a946e5fd"
      },
      "source": [
        "radius = 1\n",
        "numPoints = 8\n",
        "\n",
        "clbp_s = []\n",
        "clbp_m = []\n",
        "clbp_mc = []\n",
        "clbp_s_mc = []\n",
        "clbp_sm = []\n",
        "clbp_smc = []\n",
        "\n",
        "labels = []\n",
        "\n",
        "result_y_train_clbp_s = []\n",
        "result_y_train_clbp_m = []\n",
        "result_y_train_clbp_mc = []\n",
        "result_y_train_clbp_s_mc = []\n",
        "result_y_train_clbp_sm = []\n",
        "result_y_train_clbp_smc = []\n",
        "\n",
        "nn_classifier_clbp_s = KNeighborsClassifier(n_neighbors = 1, weights='uniform', algorithm='auto', metric=chiSquared)\n",
        "nn_classifier_clbp_m = KNeighborsClassifier(n_neighbors = 1, weights='uniform', algorithm='auto', metric=chiSquared)\n",
        "nn_classifier_clbp_mc = KNeighborsClassifier(n_neighbors = 1, weights='uniform', algorithm='auto', metric=chiSquared)\n",
        "nn_classifier_clbp_s_mc = KNeighborsClassifier(n_neighbors = 1, weights='uniform', algorithm='auto', metric=chiSquared)\n",
        "nn_classifier_clbp_sm = KNeighborsClassifier(n_neighbors = 1, weights='uniform', algorithm='auto', metric=chiSquared)\n",
        "nn_classifier_clbp_smc = KNeighborsClassifier(n_neighbors = 1, weights='uniform', algorithm='auto', metric=chiSquared)\n",
        "\n",
        "mappingTable = genMappingTable(numPoints)\n",
        "\n",
        "# train\n",
        "i = 0\n",
        "for imgdata in X_train:\n",
        "    i+=1\n",
        "    print(i)\n",
        "\n",
        "    img_bgr = imgdata\n",
        "    height, width, channel = img_bgr.shape\n",
        "    img_gray = cv2.cvtColor(img_bgr, cv2.COLOR_BGR2GRAY)\n",
        "    img = img_gray\n",
        "    # print(\"height,width\",height,width)\n",
        "    # cv2.imshow(\"img\",img)\n",
        "    # cv2.waitKey(0)\n",
        "    # cv2.destroyAllWindows()\n",
        "    # img = img/255\n",
        "    # img = (img-np.mean(img))/np.std(img)*20+128\n",
        "\n",
        "    dp = calcLocalDifferences(img,numPoints,radius)\n",
        "    sp, mp = LDSMT(dp)\n",
        "\n",
        "    # CLBP_C\n",
        "    clbp_c = clbp_C_Operator(img)\n",
        "\n",
        "    # CLBP_S_riu2\n",
        "    clbp_s_riu2 = CLBP_S_riu2(sp,numPoints)\n",
        "    mapped_clbp_s_riu2 = mappingTable[clbp_s_riu2]\n",
        "    (hist_s, bins) = np.histogram(mapped_clbp_s_riu2.ravel(), bins=numPoints+2)\n",
        "    clbp_s.append(hist_s.ravel())\n",
        "    \n",
        "    # CLBP_M_riu2\n",
        "    clbp_m_riu2 = CLBP_M_riu2(mp,numPoints)\n",
        "    mapped_clbp_m_riu2 = mappingTable[clbp_m_riu2]\n",
        "    (hist_m, bins) = np.histogram(mapped_clbp_m_riu2.ravel(), bins=numPoints+2)\n",
        "    clbp_m.append(hist_m.ravel())\n",
        "\n",
        "    # CLBP_M/C\n",
        "    hist_mc, xedges, yedges = np.histogram2d(mapped_clbp_m_riu2.ravel(), clbp_c.ravel(),bins=[numPoints+2,2])\n",
        "    clbp_mc.append(hist_mc.ravel())\n",
        "\n",
        "    # CLBP_S_M/C\n",
        "    hist_s_mc = np.concatenate((hist_s,hist_mc.ravel()),axis=0)\n",
        "    clbp_s_mc.append(hist_s_mc.ravel())\n",
        "\n",
        "    # CLBP_S/M\n",
        "    hist_sm, xedges, yedges = np.histogram2d(mapped_clbp_s_riu2.ravel(),mapped_clbp_m_riu2.ravel(),bins=[numPoints+2,numPoints+2])\n",
        "    clbp_sm.append(hist_sm.ravel())\n",
        "\n",
        "    # CLBP_S/M/C\n",
        "    clbp_mc_sum = np.where(clbp_c > 0, clbp_m_riu2+numPoints+2, clbp_m_riu2)\n",
        "    hist_smc, xedges, yedges = np.histogram2d(mapped_clbp_s_riu2.ravel(), clbp_mc_sum.ravel(),bins=[numPoints+2,2*(numPoints+2)])\n",
        "    clbp_smc.append(hist_smc.ravel())\n",
        "\n",
        "\n",
        "                \n",
        "\n",
        "\n"
      ],
      "execution_count": 90,
      "outputs": [
        {
          "output_type": "stream",
          "text": [
            "1\n",
            "2\n",
            "3\n",
            "4\n",
            "5\n",
            "6\n",
            "7\n",
            "8\n",
            "9\n",
            "10\n",
            "11\n",
            "12\n",
            "13\n",
            "14\n",
            "15\n",
            "16\n",
            "17\n",
            "18\n",
            "19\n",
            "20\n",
            "21\n",
            "22\n",
            "23\n",
            "24\n",
            "25\n",
            "26\n",
            "27\n",
            "28\n",
            "29\n",
            "30\n",
            "31\n",
            "32\n",
            "33\n",
            "34\n",
            "35\n",
            "36\n",
            "37\n",
            "38\n",
            "39\n",
            "40\n",
            "41\n",
            "42\n",
            "43\n",
            "44\n",
            "45\n",
            "46\n",
            "47\n",
            "48\n",
            "49\n",
            "50\n",
            "51\n",
            "52\n",
            "53\n",
            "54\n",
            "55\n",
            "56\n",
            "57\n",
            "58\n",
            "59\n",
            "60\n",
            "61\n",
            "62\n",
            "63\n",
            "64\n",
            "65\n",
            "66\n",
            "67\n",
            "68\n",
            "69\n",
            "70\n",
            "71\n",
            "72\n",
            "73\n",
            "74\n",
            "75\n",
            "76\n",
            "77\n",
            "78\n",
            "79\n",
            "80\n",
            "81\n",
            "82\n",
            "83\n",
            "84\n",
            "85\n",
            "86\n",
            "87\n",
            "88\n",
            "89\n",
            "90\n",
            "91\n",
            "92\n",
            "93\n",
            "94\n",
            "95\n",
            "96\n",
            "97\n",
            "98\n",
            "99\n",
            "100\n",
            "101\n",
            "102\n",
            "103\n",
            "104\n",
            "105\n",
            "106\n",
            "107\n",
            "108\n",
            "109\n",
            "110\n",
            "111\n",
            "112\n",
            "113\n",
            "114\n",
            "115\n",
            "116\n",
            "117\n",
            "118\n",
            "119\n",
            "120\n",
            "121\n",
            "122\n",
            "123\n",
            "124\n",
            "125\n",
            "126\n",
            "127\n",
            "128\n",
            "129\n",
            "130\n",
            "131\n",
            "132\n",
            "133\n",
            "134\n",
            "135\n",
            "136\n",
            "137\n",
            "138\n",
            "139\n",
            "140\n",
            "141\n",
            "142\n",
            "143\n",
            "144\n",
            "145\n",
            "146\n",
            "147\n",
            "148\n",
            "149\n",
            "150\n",
            "151\n",
            "152\n",
            "153\n",
            "154\n",
            "155\n",
            "156\n",
            "157\n",
            "158\n",
            "159\n",
            "160\n",
            "161\n",
            "162\n",
            "163\n",
            "164\n",
            "165\n",
            "166\n",
            "167\n",
            "168\n",
            "169\n",
            "170\n",
            "171\n",
            "172\n",
            "173\n",
            "174\n",
            "175\n",
            "176\n",
            "177\n",
            "178\n",
            "179\n",
            "180\n",
            "181\n",
            "182\n",
            "183\n",
            "184\n",
            "185\n",
            "186\n",
            "187\n",
            "188\n",
            "189\n",
            "190\n",
            "191\n",
            "192\n",
            "193\n",
            "194\n",
            "195\n",
            "196\n",
            "197\n",
            "198\n",
            "199\n",
            "200\n",
            "201\n",
            "202\n",
            "203\n",
            "204\n",
            "205\n",
            "206\n",
            "207\n",
            "208\n",
            "209\n",
            "210\n",
            "211\n",
            "212\n",
            "213\n",
            "214\n",
            "215\n",
            "216\n",
            "217\n",
            "218\n",
            "219\n",
            "220\n",
            "221\n",
            "222\n",
            "223\n",
            "224\n",
            "225\n",
            "226\n",
            "227\n",
            "228\n",
            "229\n",
            "230\n",
            "231\n",
            "232\n",
            "233\n",
            "234\n",
            "235\n",
            "236\n",
            "237\n",
            "238\n",
            "239\n",
            "240\n",
            "241\n",
            "242\n",
            "243\n",
            "244\n",
            "245\n",
            "246\n",
            "247\n",
            "248\n",
            "249\n",
            "250\n",
            "251\n",
            "252\n",
            "253\n",
            "254\n",
            "255\n",
            "256\n",
            "257\n",
            "258\n",
            "259\n",
            "260\n",
            "261\n",
            "262\n",
            "263\n",
            "264\n",
            "265\n",
            "266\n",
            "267\n",
            "268\n",
            "269\n",
            "270\n",
            "271\n",
            "272\n",
            "273\n",
            "274\n",
            "275\n",
            "276\n",
            "277\n",
            "278\n",
            "279\n",
            "280\n",
            "281\n",
            "282\n",
            "283\n",
            "284\n",
            "285\n",
            "286\n",
            "287\n",
            "288\n",
            "289\n",
            "290\n",
            "291\n",
            "292\n",
            "293\n",
            "294\n",
            "295\n",
            "296\n",
            "297\n",
            "298\n",
            "299\n",
            "300\n",
            "301\n",
            "302\n",
            "303\n",
            "304\n",
            "305\n",
            "306\n",
            "307\n",
            "308\n",
            "309\n",
            "310\n",
            "311\n",
            "312\n",
            "313\n",
            "314\n",
            "315\n",
            "316\n",
            "317\n",
            "318\n",
            "319\n",
            "320\n",
            "321\n",
            "322\n",
            "323\n",
            "324\n",
            "325\n",
            "326\n",
            "327\n",
            "328\n",
            "329\n",
            "330\n",
            "331\n",
            "332\n",
            "333\n",
            "334\n",
            "335\n",
            "336\n",
            "337\n",
            "338\n",
            "339\n",
            "340\n",
            "341\n",
            "342\n",
            "343\n",
            "344\n",
            "345\n",
            "346\n",
            "347\n",
            "348\n",
            "349\n",
            "350\n",
            "351\n",
            "352\n",
            "353\n",
            "354\n",
            "355\n",
            "356\n",
            "357\n",
            "358\n",
            "359\n",
            "360\n",
            "361\n",
            "362\n",
            "363\n",
            "364\n",
            "365\n",
            "366\n",
            "367\n",
            "368\n",
            "369\n",
            "370\n",
            "371\n",
            "372\n",
            "373\n",
            "374\n",
            "375\n",
            "376\n",
            "377\n",
            "378\n",
            "379\n",
            "380\n",
            "381\n",
            "382\n",
            "383\n",
            "384\n",
            "385\n",
            "386\n",
            "387\n",
            "388\n",
            "389\n",
            "390\n",
            "391\n",
            "392\n",
            "393\n",
            "394\n",
            "395\n",
            "396\n",
            "397\n",
            "398\n",
            "399\n",
            "400\n",
            "401\n",
            "402\n",
            "403\n",
            "404\n",
            "405\n",
            "406\n",
            "407\n",
            "408\n",
            "409\n",
            "410\n",
            "411\n",
            "412\n",
            "413\n",
            "414\n",
            "415\n",
            "416\n",
            "417\n",
            "418\n",
            "419\n",
            "420\n",
            "421\n",
            "422\n",
            "423\n",
            "424\n",
            "425\n",
            "426\n",
            "427\n",
            "428\n",
            "429\n",
            "430\n",
            "431\n",
            "432\n",
            "433\n",
            "434\n",
            "435\n",
            "436\n",
            "437\n",
            "438\n",
            "439\n",
            "440\n"
          ],
          "name": "stdout"
        }
      ]
    },
    {
      "cell_type": "markdown",
      "metadata": {
        "id": "OqemHH5O3N7I"
      },
      "source": [
        "Fitting the dataset"
      ]
    },
    {
      "cell_type": "code",
      "metadata": {
        "colab": {
          "base_uri": "https://localhost:8080/"
        },
        "id": "Fr2EpW7Rw9Qz",
        "outputId": "1e1c021b-ad89-4663-80bb-2d4e032f0b31"
      },
      "source": [
        "# fitting\n",
        "print(\"Fitting the models\")\n",
        "\n",
        "# model = KNeighborsClassifier(n_neighbors = 1, weights='uniform', algorithm='auto', metric=chiSquared)\n",
        "# model.fit(data,y_train)\n",
        "\n",
        "nn_classifier_clbp_s.fit(clbp_s,y_train)\n",
        "nn_classifier_clbp_m.fit(clbp_m,y_train)\n",
        "nn_classifier_clbp_mc.fit(clbp_mc,y_train)\n",
        "nn_classifier_clbp_s_mc.fit(clbp_s_mc,y_train)\n",
        "nn_classifier_clbp_sm.fit(clbp_sm,y_train)\n",
        "nn_classifier_clbp_smc.fit(clbp_smc,y_train)"
      ],
      "execution_count": 91,
      "outputs": [
        {
          "output_type": "stream",
          "text": [
            "Fitting the models\n"
          ],
          "name": "stdout"
        },
        {
          "output_type": "execute_result",
          "data": {
            "text/plain": [
              "KNeighborsClassifier(algorithm='auto', leaf_size=30,\n",
              "                     metric=<function chiSquared at 0x7f642db76440>,\n",
              "                     metric_params=None, n_jobs=None, n_neighbors=1, p=2,\n",
              "                     weights='uniform')"
            ]
          },
          "metadata": {
            "tags": []
          },
          "execution_count": 91
        }
      ]
    },
    {
      "cell_type": "markdown",
      "metadata": {
        "id": "uF_0c707WEww"
      },
      "source": [
        "Test dataset histogram\n"
      ]
    },
    {
      "cell_type": "code",
      "metadata": {
        "colab": {
          "base_uri": "https://localhost:8080/"
        },
        "id": "5pVGEVT0tAoC",
        "outputId": "c81fd788-c60a-493d-d392-f85896a5989e"
      },
      "source": [
        "# test\n",
        "print(\"Test steps:\")\n",
        "i = 0\n",
        "for imgdata in X_test:\n",
        "    print(i)\n",
        "    # image_file = '/content/00000'+str(i)+'.bmp'\n",
        "    img_bgr = imgdata\n",
        "    height, width, channel = img_bgr.shape\n",
        "    img_gray = cv2.cvtColor(img_bgr, cv2.COLOR_BGR2GRAY)\n",
        "    img = img_gray\n",
        "    dp = calcLocalDifferences(img,numPoints,radius)\n",
        "    sp, mp = LDSMT(dp)\n",
        "\n",
        "    # CLBP_C\n",
        "    clbp_c = clbp_C_Operator(img)\n",
        "\n",
        "    # CLBP_S_riu2\n",
        "    clbp_s_riu2 = CLBP_S_riu2(sp,numPoints)\n",
        "    mapped_clbp_s_riu2 = mappingTable[clbp_s_riu2]\n",
        "    (hist_s, bins) = np.histogram(mapped_clbp_s_riu2.ravel(), bins=numPoints+2)\n",
        "    result_labels_clbp_s.append((y_test[i],\n",
        "        nn_classifier_clbp_s.predict([hist_s.ravel()])))\n",
        "    \n",
        "    # CLBP_M_riu2\n",
        "    clbp_m_riu2 = CLBP_M_riu2(mp,numPoints)\n",
        "    mapped_clbp_m_riu2 = mappingTable[clbp_m_riu2]\n",
        "    (hist_m, bins) = np.histogram(mapped_clbp_m_riu2.ravel(), bins=numPoints+2)\n",
        "    result_labels_clbp_m.append((y_test[i],\n",
        "        nn_classifier_clbp_m.predict([hist_m.ravel()])))\n",
        "\n",
        "\n",
        "    # CLBP_M/C\n",
        "    hist_mc, xedges, yedges = np.histogram2d(mapped_clbp_m_riu2.ravel(), clbp_c.ravel(),bins=[numPoints+2,2])\n",
        "    result_labels_clbp_mc.append((y_test[i],\n",
        "        nn_classifier_clbp_mc.predict([hist_mc.ravel()])))\n",
        "\n",
        "    # CLBP_S_M/C\n",
        "    hist_s_mc = np.concatenate((hist_s,hist_mc.ravel()),axis=0)\n",
        "    result_labels_clbp_s_mc.append((y_test[i],\n",
        "        nn_classifier_clbp_s_mc.predict([hist_s_mc.ravel()])))\n",
        "\n",
        "    # CLBP_S/M\n",
        "    hist_sm, xedges, yedges = np.histogram2d(mapped_clbp_s_riu2.ravel(),mapped_clbp_m_riu2.ravel(),bins=[numPoints+2,numPoints+2])\n",
        "    result_labels_clbp_sm.append((y_test[i],\n",
        "        nn_classifier_clbp_sm.predict([hist_sm.ravel()])))\n",
        "\n",
        "    # CLBP_S/M/C\n",
        "    clbp_mc_sum = np.where(clbp_c > 0, clbp_m_riu2+numPoints+2, clbp_m_riu2)\n",
        "    hist_smc, xedges, yedges = np.histogram2d(mapped_clbp_s_riu2.ravel(), clbp_mc_sum.ravel(),bins=[numPoints+2,2*(numPoints+2)])\n",
        "    result_labels_clbp_smc.append((y_test[i],\n",
        "        nn_classifier_clbp_smc.predict([hist_smc.ravel()])))\n",
        "    \n",
        "    i+=1"
      ],
      "execution_count": 92,
      "outputs": [
        {
          "output_type": "stream",
          "text": [
            "Test steps:\n",
            "0\n",
            "1\n",
            "2\n",
            "3\n",
            "4\n",
            "5\n",
            "6\n",
            "7\n",
            "8\n",
            "9\n",
            "10\n",
            "11\n",
            "12\n",
            "13\n",
            "14\n",
            "15\n",
            "16\n",
            "17\n",
            "18\n",
            "19\n",
            "20\n",
            "21\n",
            "22\n",
            "23\n",
            "24\n",
            "25\n",
            "26\n",
            "27\n",
            "28\n",
            "29\n",
            "30\n",
            "31\n",
            "32\n",
            "33\n",
            "34\n",
            "35\n",
            "36\n",
            "37\n",
            "38\n",
            "39\n",
            "40\n",
            "41\n",
            "42\n",
            "43\n",
            "44\n",
            "45\n",
            "46\n",
            "47\n",
            "48\n",
            "49\n",
            "50\n",
            "51\n",
            "52\n",
            "53\n",
            "54\n",
            "55\n",
            "56\n",
            "57\n",
            "58\n",
            "59\n",
            "60\n",
            "61\n",
            "62\n",
            "63\n",
            "64\n",
            "65\n",
            "66\n",
            "67\n",
            "68\n",
            "69\n",
            "70\n",
            "71\n",
            "72\n",
            "73\n",
            "74\n",
            "75\n",
            "76\n",
            "77\n",
            "78\n",
            "79\n",
            "80\n",
            "81\n",
            "82\n",
            "83\n",
            "84\n",
            "85\n",
            "86\n",
            "87\n",
            "88\n",
            "89\n",
            "90\n",
            "91\n",
            "92\n",
            "93\n",
            "94\n",
            "95\n",
            "96\n",
            "97\n",
            "98\n",
            "99\n",
            "100\n",
            "101\n",
            "102\n",
            "103\n",
            "104\n",
            "105\n",
            "106\n",
            "107\n",
            "108\n",
            "109\n",
            "110\n"
          ],
          "name": "stdout"
        }
      ]
    },
    {
      "cell_type": "markdown",
      "metadata": {
        "id": "h6Vji5Xh6WuC"
      },
      "source": [
        "Only combined MS histogram"
      ]
    },
    {
      "cell_type": "code",
      "metadata": {
        "id": "pimX9uWBYLj7"
      },
      "source": [
        "from sklearn.neighbors import KNeighborsClassifier\n",
        "neigh = KNeighborsClassifier(n_neighbors=5)\n",
        "neigh.fit(hist_clbp_ms, y_train)\n",
        "cv2_imshow(X_test[4])\n",
        "x_test_12 = cv2.cvtColor(X_test[4], cv2.COLOR_BGR2GRAY)\n",
        "cv2_imshow(x_test_12)\n",
        "print(neigh.predict([hist_clbp_ms_test[4]]))\n",
        "acc_ms = neigh.score(hist_clbp_ms_test, y_test)\n",
        "# print(neigh.summary())\n",
        "print(\"[INFO] histogram accuracy: {:.2f}%\".format(acc_ms * 100))"
      ],
      "execution_count": null,
      "outputs": []
    },
    {
      "cell_type": "markdown",
      "metadata": {
        "id": "m506w6ow6bz0"
      },
      "source": [
        "only S histogram"
      ]
    },
    {
      "cell_type": "code",
      "metadata": {
        "id": "Pd4jTTbq5knL"
      },
      "source": [
        "from sklearn.neighbors import KNeighborsClassifier\n",
        "neigh = KNeighborsClassifier(n_neighbors=5)\n",
        "neigh.fit(clbp_s, y_train)\n",
        "cv2_imshow(X_test[4])\n",
        "x_test_12 = cv2.cvtColor(X_test[4], cv2.COLOR_BGR2GRAY)\n",
        "cv2_imshow(x_test_12)\n",
        "\n",
        "print(neigh.predict([clbp_s_test[4]]))\n",
        "acc_s = neigh.score(clbp_s_test, y_test)\n",
        "# print(neigh.summary())\n",
        "print(\"[INFO] histogram accuracy: {:.2f}%\".format(acc_s * 100))"
      ],
      "execution_count": null,
      "outputs": []
    },
    {
      "cell_type": "markdown",
      "metadata": {
        "id": "HzdWylyh1RaQ"
      },
      "source": [
        "Predictions results for CLBP_S_riu2"
      ]
    },
    {
      "cell_type": "code",
      "metadata": {
        "colab": {
          "base_uri": "https://localhost:8080/"
        },
        "id": "8FzknkHX1loa",
        "outputId": "c61a68e6-61e6-469a-ed56-ecaa2f273ebd"
      },
      "source": [
        "pred = 0\n",
        "numTest = X_test.shape[0]\n",
        "for j in range(numTest):\n",
        "    pred += (int(result_labels_clbp_s[j][0] == result_labels_clbp_s[j][1][0]))\n",
        "    \n",
        "print('predictions =',pred)\n",
        "print('accuracy =',pred/(numTest)*100)"
      ],
      "execution_count": 93,
      "outputs": [
        {
          "output_type": "stream",
          "text": [
            "predictions = 94\n",
            "accuracy = 84.68468468468468\n"
          ],
          "name": "stdout"
        }
      ]
    },
    {
      "cell_type": "markdown",
      "metadata": {
        "id": "ArA762s71b4p"
      },
      "source": [
        "Predictions results for CLBP_M_riu2"
      ]
    },
    {
      "cell_type": "code",
      "metadata": {
        "colab": {
          "base_uri": "https://localhost:8080/"
        },
        "id": "mlxsJG-s1mfQ",
        "outputId": "a47f1019-ed2d-4c2a-f7dc-22f3f0a8f913"
      },
      "source": [
        "pred = 0\n",
        "numTest = X_test.shape[0]\n",
        "for j in range(numTest):\n",
        "    pred += (int(result_labels_clbp_m[j][0] == result_labels_clbp_m[j][1][0]))\n",
        "    \n",
        "print('predictions =',pred)\n",
        "print('accuracy =',pred/(numTest)*100)"
      ],
      "execution_count": 94,
      "outputs": [
        {
          "output_type": "stream",
          "text": [
            "predictions = 92\n",
            "accuracy = 82.88288288288288\n"
          ],
          "name": "stdout"
        }
      ]
    },
    {
      "cell_type": "markdown",
      "metadata": {
        "id": "yfpWvjMZ1cQb"
      },
      "source": [
        "Predictions results for CLBP_M/C"
      ]
    },
    {
      "cell_type": "code",
      "metadata": {
        "colab": {
          "base_uri": "https://localhost:8080/"
        },
        "id": "i6YynrFr1nI3",
        "outputId": "2e20a596-485f-4716-e1dc-2701a88bebef"
      },
      "source": [
        "pred = 0\n",
        "numTest = X_test.shape[0]\n",
        "for j in range(numTest):\n",
        "    pred += (int(result_labels_clbp_mc[j][0] == result_labels_clbp_mc[j][1][0]))\n",
        "    \n",
        "print('predictions =',pred)\n",
        "print('accuracy =',pred/(numTest)*100)"
      ],
      "execution_count": 95,
      "outputs": [
        {
          "output_type": "stream",
          "text": [
            "predictions = 99\n",
            "accuracy = 89.1891891891892\n"
          ],
          "name": "stdout"
        }
      ]
    },
    {
      "cell_type": "markdown",
      "metadata": {
        "id": "FSY7_R4R1cZG"
      },
      "source": [
        "Predictions results for CLBP_S_M/C"
      ]
    },
    {
      "cell_type": "code",
      "metadata": {
        "colab": {
          "base_uri": "https://localhost:8080/"
        },
        "id": "ccYKEV6z1oBK",
        "outputId": "dd4d4e65-134e-465b-de44-0d07f1caeceb"
      },
      "source": [
        "pred = 0\n",
        "numTest = X_test.shape[0]\n",
        "for j in range(numTest):\n",
        "    pred += (int(result_labels_clbp_s_mc[j][0] == result_labels_clbp_s_mc[j][1][0]))\n",
        "    \n",
        "print('predictions =',pred)\n",
        "print('accuracy =',pred/(numTest)*100)"
      ],
      "execution_count": 96,
      "outputs": [
        {
          "output_type": "stream",
          "text": [
            "predictions = 100\n",
            "accuracy = 90.09009009009009\n"
          ],
          "name": "stdout"
        }
      ]
    },
    {
      "cell_type": "markdown",
      "metadata": {
        "id": "d6sP1_PG1cfb"
      },
      "source": [
        "Predictions results for CLBP_S/M"
      ]
    },
    {
      "cell_type": "code",
      "metadata": {
        "colab": {
          "base_uri": "https://localhost:8080/"
        },
        "id": "XQyGuOX91ov7",
        "outputId": "4a1b35c1-9870-4028-99b3-0a3bc5dc7820"
      },
      "source": [
        "pred = 0\n",
        "numTest = X_test.shape[0]\n",
        "for j in range(numTest):\n",
        "    pred += (int(result_labels_clbp_sm[j][0] == result_labels_clbp_smc[j][1][0]))\n",
        "    \n",
        "print('predictions =',pred)\n",
        "print('accuracy =',pred/(numTest)*100)"
      ],
      "execution_count": 97,
      "outputs": [
        {
          "output_type": "stream",
          "text": [
            "predictions = 102\n",
            "accuracy = 91.8918918918919\n"
          ],
          "name": "stdout"
        }
      ]
    },
    {
      "cell_type": "markdown",
      "metadata": {
        "id": "Q1hdnqzsvlvA"
      },
      "source": [
        "Predictions results for CLBP_S/M/C"
      ]
    },
    {
      "cell_type": "code",
      "metadata": {
        "colab": {
          "base_uri": "https://localhost:8080/"
        },
        "id": "k1soSv-DvjQ4",
        "outputId": "cd57ecab-9a46-4b65-e86d-ae63bb2cc725"
      },
      "source": [
        "pred = 0\n",
        "numTest = X_test.shape[0]\n",
        "for j in range(numTest):\n",
        "    pred += (int(result_labels_clbp_smc[j][0] == result_labels_clbp_smc[j][1][0]))\n",
        "    \n",
        "print('predictions =',pred)\n",
        "print('accuracy =',pred/(numTest)*100)"
      ],
      "execution_count": 98,
      "outputs": [
        {
          "output_type": "stream",
          "text": [
            "predictions = 102\n",
            "accuracy = 91.8918918918919\n"
          ],
          "name": "stdout"
        }
      ]
    },
    {
      "cell_type": "markdown",
      "metadata": {
        "id": "EQGyG5jZRMZw"
      },
      "source": [
        "Plotting decision boundaries of KNN classifier"
      ]
    },
    {
      "cell_type": "code",
      "metadata": {
        "id": "SKO-izFoUWqx"
      },
      "source": [
        ""
      ],
      "execution_count": null,
      "outputs": []
    }
  ]
}